{
 "cells": [
  {
   "cell_type": "code",
   "execution_count": 22,
   "metadata": {},
   "outputs": [
    {
     "data": {
      "text/html": [
       "<style>.container { width:80% !important; }</style>"
      ],
      "text/plain": [
       "<IPython.core.display.HTML object>"
      ]
     },
     "metadata": {},
     "output_type": "display_data"
    }
   ],
   "source": [
    "from IPython.core.display import display, HTML\n",
    "display(HTML(\"<style>.container { width:80% !important; }</style>\"))"
   ]
  },
  {
   "cell_type": "markdown",
   "metadata": {},
   "source": [
    "This workflow takes as input a text file containing **17,438 randomly chosen words out of 78,449** from  and plots the frequency of the top 25 used words. `word count` creates a count of each word. `sort words` sorts the previously created mapping orderered by count, descending. `plot words` generates a plot illustrating word frequency.  "
   ]
  },
  {
   "cell_type": "code",
   "execution_count": 26,
   "metadata": {},
   "outputs": [
    {
     "name": "stderr",
     "output_type": "stream",
     "text": [
      "\n",
      "################\n",
      "# pegasus-plan #\n",
      "################\n",
      "[main] WARN  schema.JsonMetaSchema  - Unknown keyword $defs - you should define your own Meta Schema. If the keyword is irrelevant for validation, just use a NonValidationKeyword\n",
      "[main] WARN  schema.JsonMetaSchema  - Unknown keyword additionalItems - you should define your own Meta Schema. If the keyword is irrelevant for validation, just use a NonValidationKeyword\n",
      "[main] WARN  schema.JsonMetaSchema  - Unknown keyword examples - you should define your own Meta Schema. If the keyword is irrelevant for validation, just use a NonValidationKeyword\n",
      "2020.08.10 21:18:42.064 UTC:\n",
      "2020.08.10 21:18:42.070 UTC:   -----------------------------------------------------------------------\n",
      "2020.08.10 21:18:42.076 UTC:   File for submitting this DAG to HTCondor           : harry-potter-text-analysis-0.dag.condor.sub\n",
      "2020.08.10 21:18:42.082 UTC:   Log of DAGMan debugging messages                 : harry-potter-text-analysis-0.dag.dagman.out\n",
      "2020.08.10 21:18:42.088 UTC:   Log of HTCondor library output                     : harry-potter-text-analysis-0.dag.lib.out\n",
      "2020.08.10 21:18:42.095 UTC:   Log of HTCondor library error messages             : harry-potter-text-analysis-0.dag.lib.err\n",
      "2020.08.10 21:18:42.104 UTC:   Log of the life of condor_dagman itself          : harry-potter-text-analysis-0.dag.dagman.log\n",
      "2020.08.10 21:18:42.112 UTC:\n",
      "2020.08.10 21:18:42.127 UTC:   -no_submit given, not submitting DAG to HTCondor.  You can do this with:\n",
      "2020.08.10 21:18:42.141 UTC:   -----------------------------------------------------------------------\n",
      "2020.08.10 21:18:43.652 UTC:   Your database is compatible with Pegasus version: 5.0.0dev\n",
      "2020.08.10 21:18:46.167 UTC:   Created Pegasus database in: sqlite:////home/scitech/shared-data/sample-text-analysis-wf/scitech/pegasus/harry-potter-text-analysis/run0008/harry-potter-text-analysis-0.replicas.db\n",
      "2020.08.10 21:18:46.175 UTC:   Your database is compatible with Pegasus version: 5.0.0dev\n",
      "2020.08.10 21:18:46.294 UTC:   Output replica catalog set to jdbc:sqlite:/home/scitech/shared-data/sample-text-analysis-wf/scitech/pegasus/harry-potter-text-analysis/run0008/harry-potter-text-analysis-0.replicas.db\n",
      "2020.08.10 21:18:46.640 UTC:   Submitting to condor harry-potter-text-analysis-0.dag.condor.sub\n",
      "2020.08.10 21:18:46.719 UTC:\n",
      "2020.08.10 21:18:46.726 UTC:   Your workflow has been started and is running in the base directory:\n",
      "2020.08.10 21:18:46.735 UTC:\n",
      "2020.08.10 21:18:46.741 UTC:   /home/scitech/shared-data/sample-text-analysis-wf/scitech/pegasus/harry-potter-text-analysis/run0008\n",
      "2020.08.10 21:18:46.748 UTC:\n",
      "2020.08.10 21:18:46.757 UTC:   *** To monitor the workflow you can run ***\n",
      "2020.08.10 21:18:46.764 UTC:\n",
      "2020.08.10 21:18:46.771 UTC:   pegasus-status -l /home/scitech/shared-data/sample-text-analysis-wf/scitech/pegasus/harry-potter-text-analysis/run0008\n",
      "2020.08.10 21:18:46.777 UTC:\n",
      "2020.08.10 21:18:46.783 UTC:   *** To remove your workflow run ***\n",
      "2020.08.10 21:18:46.789 UTC:\n",
      "2020.08.10 21:18:46.806 UTC:   pegasus-remove /home/scitech/shared-data/sample-text-analysis-wf/scitech/pegasus/harry-potter-text-analysis/run0008\n",
      "2020.08.10 21:18:47.802 UTC:   Time taken to execute is 8.139 seconds\n",
      "\n"
     ]
    },
    {
     "name": "stdout",
     "output_type": "stream",
     "text": [
      "[\u001b[1;32m##################################################\u001b[0m] 100.0% ..Success (\u001b[1;32mCompleted: 19\u001b[0m, \u001b[1;33mQueued: 0\u001b[0m, \u001b[1;36mRunning: 0\u001b[0m, \u001b[1;31mFailed: 0\u001b[0m)\n"
     ]
    },
    {
     "name": "stderr",
     "output_type": "stream",
     "text": [
      "\n",
      "######################\n",
      "# pegasus-statistics #\n",
      "######################\n",
      "Your database is compatible with Pegasus version: 5.0.0dev\n",
      "\n",
      "#\n",
      "# Pegasus Workflow Management System - http://pegasus.isi.edu\n",
      "#\n",
      "# Workflow summary:\n",
      "#   Summary of the workflow execution. It shows total\n",
      "#   tasks/jobs/sub workflows run, how many succeeded/failed etc.\n",
      "#   In case of hierarchical workflow the calculation shows the\n",
      "#   statistics across all the sub workflows.It shows the following\n",
      "#   statistics about tasks, jobs and sub workflows.\n",
      "#     * Succeeded - total count of succeeded tasks/jobs/sub workflows.\n",
      "#     * Failed - total count of failed tasks/jobs/sub workflows.\n",
      "#     * Incomplete - total count of tasks/jobs/sub workflows that are\n",
      "#       not in succeeded or failed state. This includes all the jobs\n",
      "#       that are not submitted, submitted but not completed etc. This\n",
      "#       is calculated as  difference between 'total' count and sum of\n",
      "#       'succeeded' and 'failed' count.\n",
      "#     * Total - total count of tasks/jobs/sub workflows.\n",
      "#     * Retries - total retry count of tasks/jobs/sub workflows.\n",
      "#     * Total+Retries - total count of tasks/jobs/sub workflows executed\n",
      "#       during workflow run. This is the cumulative of retries,\n",
      "#       succeeded and failed count.\n",
      "# Workflow wall time:\n",
      "#   The wall time from the start of the workflow execution to the end as\n",
      "#   reported by the DAGMAN.In case of rescue dag the value is the\n",
      "#   cumulative of all retries.\n",
      "# Cumulative job wall time:\n",
      "#   The sum of the wall time of all jobs as reported by kickstart.\n",
      "#   In case of job retries the value is the cumulative of all retries.\n",
      "#   For workflows having sub workflow jobs (i.e SUBDAG and SUBDAX jobs),\n",
      "#   the wall time value includes jobs from the sub workflows as well.\n",
      "# Cumulative job wall time as seen from submit side:\n",
      "#   The sum of the wall time of all jobs as reported by DAGMan.\n",
      "#   This is similar to the regular cumulative job wall time, but includes\n",
      "#   job management overhead and delays. In case of job retries the value\n",
      "#   is the cumulative of all retries. For workflows having sub workflow\n",
      "#   jobs (i.e SUBDAG and SUBDAX jobs), the wall time value includes jobs\n",
      "#   from the sub workflows as well.\n",
      "# Cumulative job badput wall time:\n",
      "#   The sum of the wall time of all failed jobs as reported by kickstart.\n",
      "#   In case of job retries the value is the cumulative of all retries.\n",
      "#   For workflows having sub workflow jobs (i.e SUBDAG and SUBDAX jobs),\n",
      "#   the wall time value includes jobs from the sub workflows as well.\n",
      "# Cumulative job badput wall time as seen from submit side:\n",
      "#   The sum of the wall time of all failed jobs as reported by DAGMan.\n",
      "#   This is similar to the regular cumulative job badput wall time, but includes\n",
      "#   job management overhead and delays. In case of job retries the value\n",
      "#   is the cumulative of all retries. For workflows having sub workflow\n",
      "#   jobs (i.e SUBDAG and SUBDAX jobs), the wall time value includes jobs\n",
      "\n"
     ]
    }
   ],
   "source": [
    "import logging\n",
    "\n",
    "from Pegasus.api import *\n",
    "\n",
    "logging.basicConfig(level=logging.DEBUG)\n",
    "\n",
    "# --- Workflow Input Files --------------------------------------------------------------------\n",
    "input_text = File(\"hp.txt\")\n",
    "rc = ReplicaCatalog()\n",
    "rc.add_replica(\"local\", input_text, \"/home/scitech/shared-data/sample-text-analysis-wf/hp.txt\")\n",
    "rc.write()\n",
    "\n",
    "# --- Workflow Executables --------------------------------------------------------------------\n",
    "word_count = Transformation(\n",
    "                \"word_count\",\n",
    "                site=\"local\",\n",
    "                pfn=\"/home/scitech/shared-data/sample-text-analysis-wf/wc.py\",\n",
    "                is_stageable=True\n",
    "            )\n",
    "sort = Transformation(\n",
    "                \"sort\",\n",
    "                site=\"local\",\n",
    "                pfn=\"/home/scitech/shared-data/sample-text-analysis-wf/sort.py\",\n",
    "                is_stageable=True\n",
    "            )\n",
    "plot = Transformation(\n",
    "                \"plot\",\n",
    "                site=\"local\",\n",
    "                pfn=\"/home/scitech/shared-data/sample-text-analysis-wf/plot.py\",\n",
    "                is_stageable=True\n",
    "            )\n",
    "\n",
    "tc = TransformationCatalog()\n",
    "tc.add_transformations(word_count, sort, plot)\n",
    "tc.write()\n",
    "\n",
    "# --- Workflow --------------------------------------------------------------------------------\n",
    "wf = Workflow(\"harry-potter-text-analysis\")\n",
    "\n",
    "# process text\n",
    "counted_words_file = File(\"wc.txt\")\n",
    "job_count_words = Job(word_count)\n",
    "job_count_words.add_inputs(input_text)\n",
    "job_count_words.add_outputs(counted_words_file)\n",
    "\n",
    "# further process text\n",
    "sorted_words_file = File(\"wc-sorted.txt\")\n",
    "job_sort_words = Job(sort)\n",
    "job_sort_words.add_inputs(counted_words_file)\n",
    "job_sort_words.add_outputs(sorted_words_file)\n",
    "\n",
    "# generate a plot of data\n",
    "plot_file = File(\"plot.png\")\n",
    "job_plot_data = Job(plot)\n",
    "job_plot_data.add_inputs(sorted_words_file)\n",
    "job_plot_data.add_outputs(plot_file)\n",
    "\n",
    "# add jobs to workflow\n",
    "wf.add_jobs(\n",
    "    job_count_words,\n",
    "    job_sort_words,\n",
    "    job_plot_data\n",
    ")\n",
    "\n",
    "# run workflow\n",
    "try:\n",
    "    wf.plan(submit=True)\n",
    "    wf.wait()\n",
    "    wf.statistics()\n",
    "except PegasusClientError as e:\n",
    "    print(e.output)"
   ]
  },
  {
   "cell_type": "code",
   "execution_count": 27,
   "metadata": {},
   "outputs": [
    {
     "data": {
      "image/png": "[encoded data removed]",
      "text/plain": [
       "<IPython.core.display.Image object>"
      ]
     },
     "execution_count": 27,
     "metadata": {},
     "output_type": "execute_result"
    }
   ],
   "source": [
    "Image(filename='/home/scitech/shared-data/sample-text-analysis-wf/wf-output/plot.png') "
   ]
  },
  {
   "cell_type": "code",
   "execution_count": null,
   "metadata": {},
   "outputs": [],
   "source": []
  },
  {
   "cell_type": "code",
   "execution_count": null,
   "metadata": {},
   "outputs": [],
   "source": []
  },
  {
   "cell_type": "code",
   "execution_count": null,
   "metadata": {},
   "outputs": [],
   "source": []
  },
  {
   "cell_type": "code",
   "execution_count": null,
   "metadata": {},
   "outputs": [],
   "source": []
  }
 ],
 "metadata": {
  "kernelspec": {
   "display_name": "Python 3",
   "language": "python",
   "name": "python3"
  },
  "language_info": {
   "codemirror_mode": {
    "name": "ipython",
    "version": 3
   },
   "file_extension": ".py",
   "mimetype": "text/x-python",
   "name": "python",
   "nbconvert_exporter": "python",
   "pygments_lexer": "ipython3",
   "version": "3.6.8"
  }
 },
 "nbformat": 4,
 "nbformat_minor": 4
}
